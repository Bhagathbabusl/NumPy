{
  "nbformat": 4,
  "nbformat_minor": 0,
  "metadata": {
    "colab": {
      "provenance": []
    },
    "kernelspec": {
      "name": "python3",
      "display_name": "Python 3"
    },
    "language_info": {
      "name": "python"
    }
  },
  "cells": [
    {
      "cell_type": "code",
      "source": [
        "import numpy as np\n",
        "data = np.array([\n",
        "    [1000, 50, 10, 500],\n",
        "    [1500, 75, 15, 750],\n",
        "    [2000, 100, 20, 1000],\n",
        "    [2500, 125, 25, 1250],\n",
        "    [3000, 150, 30, 1500]\n",
        "], dtype=np.float32)\n",
        "\n",
        "columns = [\"sales\", \"units\", \"transactions\", \"gross_profits\"]"
      ],
      "metadata": {
        "colab": {
          "base_uri": "https://localhost:8080/"
        },
        "id": "Yz9h1A_iAbVu",
        "outputId": "7dde5c29-0875-42fc-8459-22d9081a2644"
      },
      "execution_count": null,
      "outputs": [
        {
          "output_type": "stream",
          "name": "stdout",
          "text": [
            "[(1000.,  50., 10.,  500.) (1500.,  75., 15.,  750.)\n",
            " (2000., 100., 20., 1000.) (2500., 125., 25., 1250.)\n",
            " (3000., 150., 30., 1500.)]\n"
          ]
        }
      ]
    },
    {
      "cell_type": "code",
      "source": [
        "What is the total number of sales transactions in the dataset?\n",
        "What is the mean sales units of all transactions?\n",
        "What is the standard deviation of gross profits across all transactions?\n",
        "Which transaction had the highest gross profit, and what were its sales units?\n",
        "What is the correlation coefficient between sales units and gross profits?\n",
        "What is the median value of gross profits for transactions with less than 10 sales units?\n",
        "What is the interquartile range (IQR) of sales units?\n",
        "What is the range of gross profits for transactions with more than 20 sales units?\n",
        "What is the mode sales units in the dataset?\n",
        "What is the skewness of transactions with more than 50 sales units?\n",
        "What is the kurtosis of gross profits for transactions with less than 5 sales units?\n",
        "What is the variance of sales units for transactions with gross profits greater than $100?\n",
        "What is the sum of sales units for transactions with gross profits less than $50?\n",
        "What is the mean gross profit for transactions with sales units between 5 and 10?\n",
        "What is the median sales units for transactions with gross profits greater than $200?\n",
        "What is the standard error of the mean for transactions with sales units between 15 and 20?\n",
        "What is the correlation coefficient between sales units and transactions?\n",
        "What is the median gross profit for transactions with sales units greater than 10 and less than 20?\n",
        "What is the variance of transactions for transactions with gross profits greater than $150?\n",
        "What is the range of sales units for transactions with gross profits less than $25?\n",
        "What is the mode gross profit for transactions with less than 5 sales units?\n",
        "What is the skewness of gross profits for transactions with more than 30 sales units?\n",
        "What is the kurtosis of sales units for transactions with gross profits less than $75?\n",
        "What is the variance of gross profits for transactions with sales units between 2 and 4?\n",
        "What is the sum of sales units for transactions with gross profits greater than $500?\n",
        "What is the mean gross profit for transactions with sales units less than 5?\n",
        "What is the median sales units for transactions with gross profits between $50 and $100?\n",
        "What is the standard deviation of transactions for transactions with sales units between 10 and 15?\n",
        "What is the correlation coefficient between gross profits and transactions?\n",
        "What is the median gross profit for transactions with sales units greater than 20?"
      ],
      "metadata": {
        "id": "zBRFLBAJAbSu"
      },
      "execution_count": null,
      "outputs": []
    },
    {
      "cell_type": "code",
      "source": [],
      "metadata": {
        "id": "IjbUiIvjBrz3"
      },
      "execution_count": null,
      "outputs": []
    },
    {
      "cell_type": "code",
      "source": [],
      "metadata": {
        "id": "Qsa0gLXBBrw-"
      },
      "execution_count": null,
      "outputs": []
    },
    {
      "cell_type": "code",
      "source": [],
      "metadata": {
        "id": "eT9C9K78BrsM"
      },
      "execution_count": null,
      "outputs": []
    },
    {
      "cell_type": "code",
      "source": [],
      "metadata": {
        "id": "2BxajSmiBrom"
      },
      "execution_count": null,
      "outputs": []
    },
    {
      "cell_type": "code",
      "source": [],
      "metadata": {
        "id": "U48DWcCFBriF"
      },
      "execution_count": null,
      "outputs": []
    },
    {
      "cell_type": "code",
      "source": [],
      "metadata": {
        "id": "67-12KToBrfT"
      },
      "execution_count": null,
      "outputs": []
    },
    {
      "cell_type": "code",
      "source": [],
      "metadata": {
        "id": "mqahEIT1Brbr"
      },
      "execution_count": null,
      "outputs": []
    },
    {
      "cell_type": "code",
      "source": [],
      "metadata": {
        "id": "z5bMq0vZBrY7"
      },
      "execution_count": null,
      "outputs": []
    },
    {
      "cell_type": "code",
      "source": [],
      "metadata": {
        "id": "7Vh6QnwmBrWD"
      },
      "execution_count": null,
      "outputs": []
    },
    {
      "cell_type": "code",
      "source": [],
      "metadata": {
        "id": "TS4QuJ3wBrS7"
      },
      "execution_count": null,
      "outputs": []
    },
    {
      "cell_type": "code",
      "source": [],
      "metadata": {
        "id": "JfEQSSPxBrPr"
      },
      "execution_count": null,
      "outputs": []
    },
    {
      "cell_type": "code",
      "source": [],
      "metadata": {
        "id": "1km8s370BrMz"
      },
      "execution_count": null,
      "outputs": []
    }
  ]
}